{
 "cells": [
  {
   "cell_type": "markdown",
   "metadata": {},
   "source": [
    "# Predict Arrests Made After Terry Stop\n",
    "Author: Carlos Garza"
   ]
  },
  {
   "cell_type": "markdown",
   "metadata": {},
   "source": [
    "# Overview\n",
    "This notebook details the building, tuning and deployment of a categorical model that predicts whether an arrest was made during traffic stops by the Seattle Police. Tools utilized include but are not limited to K-Nearest Neighbors models, decision trees, random forests, and XGBoost.\n",
    "\n",
    "Because the data includes race and gender of both the officers and suspects, this will be a purely objective model based on public data and will not include further social commentary. Social issues regarding race and gender are outside of the scope of this project."
   ]
  },
  {
   "cell_type": "markdown",
   "metadata": {},
   "source": [
    "# Business Problem\n",
    "In the late 1960's, the supreme court ruled in Terry vs. Ohio that \"stop and frisk\" police tactics are not a violation of constitutional rights. Because of this, police can detain a person on the grounds of \"reasonable suspicion,\" even in the absence of clearer evidence.\n",
    "\n",
    "This ruling lead to the coining of the term Terry Stop, which is when an officer of the law briefly detains a driver based on the reasonable suspician that the driver is involved in criminal activity.\n",
    "\n",
    "Based on data from Terry Stops from the Seattle Police Department, I built a classifying model that predicts if a stop will result in an arrest."
   ]
  },
  {
   "cell_type": "markdown",
   "metadata": {},
   "source": [
    "# Data"
   ]
  },
  {
   "cell_type": "markdown",
   "metadata": {},
   "source": [
    "The data utilized in this project comes from [data.seattle.gov](https://data.seattle.gov/Public-Safety/Terry-Stops/28ny-9ts8) and consists of 46.3k Terry Stops, as reported by the conducting officer. A copy of the csv file can be found in the data folder of this repository or at [data.gov](https://catalog.data.gov/dataset/terry-stops)."
   ]
  },
  {
   "cell_type": "markdown",
   "metadata": {},
   "source": [
    "### Exploratory Data Analysis\n",
    "Exploring the data to develop a preprocessing and modeling strategy"
   ]
  },
  {
   "cell_type": "code",
   "execution_count": 1,
   "metadata": {},
   "outputs": [],
   "source": [
    "import numpy as np\n",
    "import pandas as pd\n",
    "import matplotlib.pyplot as plt\n",
    "import seaborn as sns\n",
    "%matplotlib inline"
   ]
  },
  {
   "cell_type": "code",
   "execution_count": 2,
   "metadata": {},
   "outputs": [
    {
     "data": {
      "text/html": [
       "<div>\n",
       "<style scoped>\n",
       "    .dataframe tbody tr th:only-of-type {\n",
       "        vertical-align: middle;\n",
       "    }\n",
       "\n",
       "    .dataframe tbody tr th {\n",
       "        vertical-align: top;\n",
       "    }\n",
       "\n",
       "    .dataframe thead th {\n",
       "        text-align: right;\n",
       "    }\n",
       "</style>\n",
       "<table border=\"1\" class=\"dataframe\">\n",
       "  <thead>\n",
       "    <tr style=\"text-align: right;\">\n",
       "      <th></th>\n",
       "      <th>Subject Age Group</th>\n",
       "      <th>Subject ID</th>\n",
       "      <th>GO / SC Num</th>\n",
       "      <th>Terry Stop ID</th>\n",
       "      <th>Stop Resolution</th>\n",
       "      <th>Weapon Type</th>\n",
       "      <th>Officer ID</th>\n",
       "      <th>Officer YOB</th>\n",
       "      <th>Officer Gender</th>\n",
       "      <th>Officer Race</th>\n",
       "      <th>...</th>\n",
       "      <th>Reported Time</th>\n",
       "      <th>Initial Call Type</th>\n",
       "      <th>Final Call Type</th>\n",
       "      <th>Call Type</th>\n",
       "      <th>Officer Squad</th>\n",
       "      <th>Arrest Flag</th>\n",
       "      <th>Frisk Flag</th>\n",
       "      <th>Precinct</th>\n",
       "      <th>Sector</th>\n",
       "      <th>Beat</th>\n",
       "    </tr>\n",
       "  </thead>\n",
       "  <tbody>\n",
       "    <tr>\n",
       "      <th>0</th>\n",
       "      <td>-</td>\n",
       "      <td>-1</td>\n",
       "      <td>20140000120677</td>\n",
       "      <td>92317</td>\n",
       "      <td>Arrest</td>\n",
       "      <td>None</td>\n",
       "      <td>7500</td>\n",
       "      <td>1984</td>\n",
       "      <td>M</td>\n",
       "      <td>Black or African American</td>\n",
       "      <td>...</td>\n",
       "      <td>11:32:00</td>\n",
       "      <td>-</td>\n",
       "      <td>-</td>\n",
       "      <td>-</td>\n",
       "      <td>SOUTH PCT 1ST W - ROBERT</td>\n",
       "      <td>N</td>\n",
       "      <td>N</td>\n",
       "      <td>South</td>\n",
       "      <td>O</td>\n",
       "      <td>O2</td>\n",
       "    </tr>\n",
       "    <tr>\n",
       "      <th>1</th>\n",
       "      <td>-</td>\n",
       "      <td>-1</td>\n",
       "      <td>20150000001463</td>\n",
       "      <td>28806</td>\n",
       "      <td>Field Contact</td>\n",
       "      <td>None</td>\n",
       "      <td>5670</td>\n",
       "      <td>1965</td>\n",
       "      <td>M</td>\n",
       "      <td>White</td>\n",
       "      <td>...</td>\n",
       "      <td>07:59:00</td>\n",
       "      <td>-</td>\n",
       "      <td>-</td>\n",
       "      <td>-</td>\n",
       "      <td>NaN</td>\n",
       "      <td>N</td>\n",
       "      <td>N</td>\n",
       "      <td>-</td>\n",
       "      <td>-</td>\n",
       "      <td>-</td>\n",
       "    </tr>\n",
       "    <tr>\n",
       "      <th>2</th>\n",
       "      <td>-</td>\n",
       "      <td>-1</td>\n",
       "      <td>20150000001516</td>\n",
       "      <td>29599</td>\n",
       "      <td>Field Contact</td>\n",
       "      <td>None</td>\n",
       "      <td>4844</td>\n",
       "      <td>1961</td>\n",
       "      <td>M</td>\n",
       "      <td>White</td>\n",
       "      <td>...</td>\n",
       "      <td>19:12:00</td>\n",
       "      <td>-</td>\n",
       "      <td>-</td>\n",
       "      <td>-</td>\n",
       "      <td>NaN</td>\n",
       "      <td>N</td>\n",
       "      <td>-</td>\n",
       "      <td>-</td>\n",
       "      <td>-</td>\n",
       "      <td>-</td>\n",
       "    </tr>\n",
       "    <tr>\n",
       "      <th>3</th>\n",
       "      <td>-</td>\n",
       "      <td>-1</td>\n",
       "      <td>20150000001670</td>\n",
       "      <td>32260</td>\n",
       "      <td>Field Contact</td>\n",
       "      <td>None</td>\n",
       "      <td>7539</td>\n",
       "      <td>1963</td>\n",
       "      <td>M</td>\n",
       "      <td>White</td>\n",
       "      <td>...</td>\n",
       "      <td>04:55:00</td>\n",
       "      <td>-</td>\n",
       "      <td>-</td>\n",
       "      <td>-</td>\n",
       "      <td>NaN</td>\n",
       "      <td>N</td>\n",
       "      <td>N</td>\n",
       "      <td>-</td>\n",
       "      <td>-</td>\n",
       "      <td>-</td>\n",
       "    </tr>\n",
       "    <tr>\n",
       "      <th>4</th>\n",
       "      <td>-</td>\n",
       "      <td>-1</td>\n",
       "      <td>20150000001739</td>\n",
       "      <td>33155</td>\n",
       "      <td>Field Contact</td>\n",
       "      <td>None</td>\n",
       "      <td>6973</td>\n",
       "      <td>1977</td>\n",
       "      <td>M</td>\n",
       "      <td>White</td>\n",
       "      <td>...</td>\n",
       "      <td>00:41:00</td>\n",
       "      <td>-</td>\n",
       "      <td>-</td>\n",
       "      <td>-</td>\n",
       "      <td>NaN</td>\n",
       "      <td>N</td>\n",
       "      <td>N</td>\n",
       "      <td>-</td>\n",
       "      <td>-</td>\n",
       "      <td>-</td>\n",
       "    </tr>\n",
       "  </tbody>\n",
       "</table>\n",
       "<p>5 rows × 23 columns</p>\n",
       "</div>"
      ],
      "text/plain": [
       "  Subject Age Group  Subject ID     GO / SC Num  Terry Stop ID  \\\n",
       "0                 -          -1  20140000120677          92317   \n",
       "1                 -          -1  20150000001463          28806   \n",
       "2                 -          -1  20150000001516          29599   \n",
       "3                 -          -1  20150000001670          32260   \n",
       "4                 -          -1  20150000001739          33155   \n",
       "\n",
       "  Stop Resolution Weapon Type Officer ID  Officer YOB Officer Gender  \\\n",
       "0          Arrest        None     7500           1984              M   \n",
       "1   Field Contact        None     5670           1965              M   \n",
       "2   Field Contact        None     4844           1961              M   \n",
       "3   Field Contact        None     7539           1963              M   \n",
       "4   Field Contact        None     6973           1977              M   \n",
       "\n",
       "                Officer Race  ... Reported Time Initial Call Type  \\\n",
       "0  Black or African American  ...      11:32:00                 -   \n",
       "1                      White  ...      07:59:00                 -   \n",
       "2                      White  ...      19:12:00                 -   \n",
       "3                      White  ...      04:55:00                 -   \n",
       "4                      White  ...      00:41:00                 -   \n",
       "\n",
       "  Final Call Type Call Type             Officer Squad Arrest Flag Frisk Flag  \\\n",
       "0               -         -  SOUTH PCT 1ST W - ROBERT           N          N   \n",
       "1               -         -                       NaN           N          N   \n",
       "2               -         -                       NaN           N          -   \n",
       "3               -         -                       NaN           N          N   \n",
       "4               -         -                       NaN           N          N   \n",
       "\n",
       "  Precinct  Sector    Beat  \n",
       "0    South  O       O2      \n",
       "1        -       -       -  \n",
       "2        -       -       -  \n",
       "3        -       -       -  \n",
       "4        -       -       -  \n",
       "\n",
       "[5 rows x 23 columns]"
      ]
     },
     "execution_count": 2,
     "metadata": {},
     "output_type": "execute_result"
    }
   ],
   "source": [
    "df = pd.read_csv('data/Terry_Stops.csv')\n",
    "df.head()"
   ]
  },
  {
   "cell_type": "code",
   "execution_count": 3,
   "metadata": {
    "scrolled": false
   },
   "outputs": [
    {
     "name": "stdout",
     "output_type": "stream",
     "text": [
      "<class 'pandas.core.frame.DataFrame'>\n",
      "RangeIndex: 46248 entries, 0 to 46247\n",
      "Data columns (total 23 columns):\n",
      " #   Column                    Non-Null Count  Dtype \n",
      "---  ------                    --------------  ----- \n",
      " 0   Subject Age Group         46248 non-null  object\n",
      " 1   Subject ID                46248 non-null  int64 \n",
      " 2   GO / SC Num               46248 non-null  int64 \n",
      " 3   Terry Stop ID             46248 non-null  int64 \n",
      " 4   Stop Resolution           46248 non-null  object\n",
      " 5   Weapon Type               46248 non-null  object\n",
      " 6   Officer ID                46248 non-null  object\n",
      " 7   Officer YOB               46248 non-null  int64 \n",
      " 8   Officer Gender            46248 non-null  object\n",
      " 9   Officer Race              46248 non-null  object\n",
      " 10  Subject Perceived Race    46248 non-null  object\n",
      " 11  Subject Perceived Gender  46248 non-null  object\n",
      " 12  Reported Date             46248 non-null  object\n",
      " 13  Reported Time             46248 non-null  object\n",
      " 14  Initial Call Type         46248 non-null  object\n",
      " 15  Final Call Type           46248 non-null  object\n",
      " 16  Call Type                 46248 non-null  object\n",
      " 17  Officer Squad             45643 non-null  object\n",
      " 18  Arrest Flag               46248 non-null  object\n",
      " 19  Frisk Flag                46248 non-null  object\n",
      " 20  Precinct                  46248 non-null  object\n",
      " 21  Sector                    46248 non-null  object\n",
      " 22  Beat                      46248 non-null  object\n",
      "dtypes: int64(4), object(19)\n",
      "memory usage: 8.1+ MB\n"
     ]
    }
   ],
   "source": [
    "df.info()"
   ]
  },
  {
   "cell_type": "code",
   "execution_count": 4,
   "metadata": {
    "scrolled": true
   },
   "outputs": [
    {
     "name": "stdout",
     "output_type": "stream",
     "text": [
      "Subject Age Group \n",
      "\n",
      "26 - 35         15381\n",
      "36 - 45          9762\n",
      "18 - 25          9322\n",
      "46 - 55          5980\n",
      "56 and Above     2345\n",
      "1 - 17           1961\n",
      "-                1497\n",
      "Name: Subject Age Group, dtype: int64\n",
      "_________\n",
      "Subject ID \n",
      "\n",
      "-1              34742\n",
      " 7726859935        19\n",
      " 7753260438        18\n",
      " 7727117712        13\n",
      " 12795904212       11\n",
      "                ...  \n",
      " 7728382188         1\n",
      " 7728607474         1\n",
      " 7725672697         1\n",
      " 7725797630         1\n",
      " 16219707395        1\n",
      "Name: Subject ID, Length: 8632, dtype: int64\n",
      "_________\n",
      "GO / SC Num \n",
      "\n",
      "20160000378750    16\n",
      "20150000190790    16\n",
      "20180000134604    14\n",
      "20190000441736    13\n",
      "20170000132836    13\n",
      "                  ..\n",
      "20190000410715     1\n",
      "20160000174160     1\n",
      "20170000156685     1\n",
      "20200000272466     1\n",
      "20180000071981     1\n",
      "Name: GO / SC Num, Length: 36213, dtype: int64\n",
      "_________\n",
      "Terry Stop ID \n",
      "\n",
      "19268585233    3\n",
      "19324329995    3\n",
      "13080077761    3\n",
      "15045077325    3\n",
      "12119304761    2\n",
      "              ..\n",
      "76432          1\n",
      "250511         1\n",
      "383630         1\n",
      "49805          1\n",
      "131072         1\n",
      "Name: Terry Stop ID, Length: 46213, dtype: int64\n",
      "_________\n",
      "Stop Resolution \n",
      "\n",
      "Field Contact               18520\n",
      "Offense Report              15437\n",
      "Arrest                      11386\n",
      "Referred for Prosecution      728\n",
      "Citation / Infraction         177\n",
      "Name: Stop Resolution, dtype: int64\n",
      "_________\n",
      "Weapon Type \n",
      "\n",
      "None                                    32565\n",
      "-                                       10972\n",
      "Lethal Cutting Instrument                1482\n",
      "Knife/Cutting/Stabbing Instrument         574\n",
      "Handgun                                   284\n",
      "Firearm Other                             100\n",
      "Blunt Object/Striking Implement            76\n",
      "Club, Blackjack, Brass Knuckles            49\n",
      "Firearm                                    36\n",
      "Mace/Pepper Spray                          27\n",
      "Other Firearm                              22\n",
      "Firearm (unk type)                         15\n",
      "Taser/Stun Gun                              9\n",
      "Club                                        9\n",
      "Rifle                                       7\n",
      "None/Not Applicable                         7\n",
      "Fire/Incendiary Device                      6\n",
      "Shotgun                                     3\n",
      "Automatic Handgun                           2\n",
      "Personal Weapons (hands, feet, etc.)        1\n",
      "Brass Knuckles                              1\n",
      "Blackjack                                   1\n",
      "Name: Weapon Type, dtype: int64\n",
      "_________\n",
      "Officer ID \n",
      "\n",
      "7456      415\n",
      "7634      341\n",
      "7773      321\n",
      "7765      315\n",
      "7758      308\n",
      "         ... \n",
      "8786        1\n",
      "5445        1\n",
      "5137        1\n",
      "7558        1\n",
      "5411        1\n",
      "Name: Officer ID, Length: 1199, dtype: int64\n",
      "_________\n",
      "Officer YOB \n",
      "\n",
      "1986    3236\n",
      "1987    2958\n",
      "1984    2721\n",
      "1991    2658\n",
      "1985    2477\n",
      "1992    2377\n",
      "1990    2204\n",
      "1988    2056\n",
      "1989    1953\n",
      "1982    1835\n",
      "1983    1700\n",
      "1979    1488\n",
      "1993    1417\n",
      "1981    1398\n",
      "1971    1217\n",
      "1978    1148\n",
      "1995    1099\n",
      "1976     999\n",
      "1977     991\n",
      "1973     914\n",
      "1994     880\n",
      "1980     798\n",
      "1967     708\n",
      "1968     625\n",
      "1996     595\n",
      "1970     589\n",
      "1974     556\n",
      "1969     535\n",
      "1975     525\n",
      "1962     455\n",
      "1972     420\n",
      "1965     416\n",
      "1964     415\n",
      "1997     370\n",
      "1963     258\n",
      "1966     223\n",
      "1958     218\n",
      "1961     212\n",
      "1959     174\n",
      "1960     161\n",
      "1900      71\n",
      "1954      44\n",
      "1957      43\n",
      "1953      32\n",
      "1955      21\n",
      "1956      17\n",
      "1998      13\n",
      "1948      11\n",
      "1952       9\n",
      "1949       5\n",
      "1946       2\n",
      "1951       1\n",
      "Name: Officer YOB, dtype: int64\n",
      "_________\n",
      "Officer Gender \n",
      "\n",
      "M    40933\n",
      "F     5286\n",
      "N       29\n",
      "Name: Officer Gender, dtype: int64\n",
      "_________\n",
      "Officer Race \n",
      "\n",
      "White                            35036\n",
      "Hispanic or Latino                2646\n",
      "Two or More Races                 2590\n",
      "Asian                             1967\n",
      "Black or African American         1828\n",
      "Not Specified                     1346\n",
      "Nat Hawaiian/Oth Pac Islander      447\n",
      "American Indian/Alaska Native      317\n",
      "Unknown                             71\n",
      "Name: Officer Race, dtype: int64\n",
      "_________\n",
      "Subject Perceived Race \n",
      "\n",
      "White                                        22572\n",
      "Black or African American                    13760\n",
      "Unknown                                       2519\n",
      "-                                             1883\n",
      "Hispanic                                      1684\n",
      "Asian                                         1487\n",
      "American Indian or Alaska Native              1334\n",
      "Multi-Racial                                   809\n",
      "Other                                          152\n",
      "Native Hawaiian or Other Pacific Islander       48\n",
      "Name: Subject Perceived Race, dtype: int64\n",
      "_________\n",
      "Subject Perceived Gender \n",
      "\n",
      "Male                                                         36203\n",
      "Female                                                        9419\n",
      "Unable to Determine                                            326\n",
      "-                                                              274\n",
      "Unknown                                                         22\n",
      "Gender Diverse (gender non-conforming and/or transgender)        4\n",
      "Name: Subject Perceived Gender, dtype: int64\n",
      "_________\n",
      "Reported Date \n",
      "\n",
      "2015-10-01T00:00:00    101\n",
      "2015-09-29T00:00:00     66\n",
      "2015-05-28T00:00:00     57\n",
      "2015-07-18T00:00:00     55\n",
      "2019-04-26T00:00:00     54\n",
      "                      ... \n",
      "2015-05-10T00:00:00      1\n",
      "2015-03-15T00:00:00      1\n",
      "2015-03-28T00:00:00      1\n",
      "2015-03-24T00:00:00      1\n",
      "2015-03-31T00:00:00      1\n",
      "Name: Reported Date, Length: 2159, dtype: int64\n",
      "_________\n",
      "Reported Time \n",
      "\n",
      "02:56:00    51\n",
      "17:00:00    51\n",
      "19:18:00    51\n",
      "03:09:00    50\n",
      "18:51:00    50\n",
      "            ..\n",
      "16:32:29     1\n",
      "13:10:10     1\n",
      "23:42:50     1\n",
      "01:34:36     1\n",
      "09:53:36     1\n",
      "Name: Reported Time, Length: 12158, dtype: int64\n",
      "_________\n",
      "Initial Call Type \n",
      "\n",
      "-                                                 13110\n",
      "SUSPICIOUS STOP - OFFICER INITIATED ONVIEW         3091\n",
      "SUSPICIOUS PERSON, VEHICLE OR INCIDENT             2917\n",
      "DISTURBANCE, MISCELLANEOUS/OTHER                   2375\n",
      "ASLT - IP/JO - WITH OR W/O WPNS (NO SHOOTINGS)     1950\n",
      "                                                  ...  \n",
      "WARRANT PICKUP - FROM OTHER AGENCY                    1\n",
      "DEMONSTRATIONS                                        1\n",
      "MISSING - ADULT                                       1\n",
      "MISSING - (ALZHEIMER, ENDANGERED, ELDERLY)            1\n",
      "INJURED -  PERSON/INDUSTRIAL ACCIDENT                 1\n",
      "Name: Initial Call Type, Length: 167, dtype: int64\n",
      "_________\n",
      "Final Call Type \n",
      "\n",
      "-                                                     13110\n",
      "--SUSPICIOUS CIRCUM. - SUSPICIOUS PERSON               3660\n",
      "--PROWLER - TRESPASS                                   3264\n",
      "--DISTURBANCE - OTHER                                  2655\n",
      "--ASSAULTS, OTHER                                      2239\n",
      "                                                      ...  \n",
      "--PREMISE CHECKS - REQUEST TO WATCH                       1\n",
      "BIAS -IP/JO - RACIAL, POLITICAL, SEXUAL MOTIVATION        1\n",
      "--HARBOR - ASSIST BOATER (NON EMERG)                      1\n",
      "PROWLER                                                   1\n",
      "--COMMERCIAL SEXUAL EXPLOITATION OF MINORS (CSEC)         1\n",
      "Name: Final Call Type, Length: 205, dtype: int64\n",
      "_________\n",
      "Call Type \n",
      "\n",
      "911                              20700\n",
      "-                                13110\n",
      "ONVIEW                            8891\n",
      "TELEPHONE OTHER, NOT 911          3224\n",
      "ALARM CALL (NOT POLICE ALARM)      315\n",
      "TEXT MESSAGE                         7\n",
      "SCHEDULED EVENT (RECURRING)          1\n",
      "Name: Call Type, dtype: int64\n",
      "_________\n",
      "Officer Squad \n",
      "\n",
      "TRAINING - FIELD TRAINING SQUAD                 4951\n",
      "WEST PCT 1ST W - DAVID/MARY                     1525\n",
      "WEST PCT 2ND W - D/M RELIEF                     1003\n",
      "SOUTHWEST PCT 2ND W - FRANK                      942\n",
      "NORTH PCT 2ND WATCH - NORTH BEATS                885\n",
      "                                                ... \n",
      "ZOLD CRIME ANALYSIS UNIT - ANALYSTS                1\n",
      "COMMUNITY OUTREACH - SPECIAL PROJECTS DETAIL       1\n",
      "SOUTHWEST PCT OPS - BURG/THEFT                     1\n",
      "TRAINING - ADVANCED - SQUAD C                      1\n",
      "DV SQUAD D - ORDER SERVICE                         1\n",
      "Name: Officer Squad, Length: 170, dtype: int64\n",
      "_________\n",
      "Arrest Flag \n",
      "\n",
      "N    43070\n",
      "Y     3178\n",
      "Name: Arrest Flag, dtype: int64\n",
      "_________\n",
      "Frisk Flag \n",
      "\n",
      "N    35438\n",
      "Y    10332\n",
      "-      478\n",
      "Name: Frisk Flag, dtype: int64\n",
      "_________\n",
      "Precinct \n",
      "\n",
      "West         11096\n",
      "North        10172\n",
      "-             9806\n",
      "East          6105\n",
      "South         5542\n",
      "Southwest     2320\n",
      "SouthWest      956\n",
      "Unknown        200\n",
      "OOJ             32\n",
      "FK ERROR        19\n",
      "Name: Precinct, dtype: int64\n",
      "_________\n",
      "Sector \n",
      "\n",
      "-         10010\n",
      "E          2337\n",
      "M          2270\n",
      "N          2191\n",
      "K          1762\n",
      "B          1658\n",
      "L          1639\n",
      "K          1618\n",
      "D          1512\n",
      "R          1455\n",
      "F          1378\n",
      "S          1348\n",
      "U          1302\n",
      "M          1161\n",
      "O          1161\n",
      "J          1119\n",
      "G          1087\n",
      "D          1069\n",
      "C          1037\n",
      "Q           967\n",
      "W           941\n",
      "E           879\n",
      "Q           733\n",
      "N           657\n",
      "F           574\n",
      "O           566\n",
      "R           563\n",
      "B           462\n",
      "S           450\n",
      "U           420\n",
      "G           417\n",
      "W           382\n",
      "J           368\n",
      "L           355\n",
      "C           347\n",
      "99           53\n",
      "Name: Sector, dtype: int64\n",
      "_________\n",
      "Beat \n",
      "\n",
      "-         9951\n",
      "N3        1175\n",
      "E2        1092\n",
      "K3         905\n",
      "M2         852\n",
      "          ... \n",
      "N1          71\n",
      "99          53\n",
      "99          31\n",
      "OOJ         22\n",
      "S            2\n",
      "Name: Beat, Length: 107, dtype: int64\n",
      "_________\n"
     ]
    }
   ],
   "source": [
    "for column in df.columns:\n",
    "    print(column, '\\n')\n",
    "    print(df[column].value_counts())\n",
    "    print('_________')"
   ]
  },
  {
   "cell_type": "code",
   "execution_count": 5,
   "metadata": {},
   "outputs": [
    {
     "data": {
      "text/plain": [
       "<AxesSubplot:>"
      ]
     },
     "execution_count": 5,
     "metadata": {},
     "output_type": "execute_result"
    },
    {
     "data": {
      "image/png": "[encoded data removed]",
      "text/plain": [
       "<Figure size 432x288 with 1 Axes>"
      ]
     },
     "metadata": {
      "needs_background": "light"
     },
     "output_type": "display_data"
    }
   ],
   "source": [
    "df['Officer YOB'].hist()"
   ]
  },
  {
   "cell_type": "markdown",
   "metadata": {},
   "source": [
    "### Data Preprocessing"
   ]
  },
  {
   "cell_type": "markdown",
   "metadata": {},
   "source": [
    "To begin I dropped the columns that identify specific suspects or officers, as well as locational variables to make a more generalized dataset. Additionally, call types were dropped as the categorical data is expansive."
   ]
  },
  {
   "cell_type": "code",
   "execution_count": 6,
   "metadata": {},
   "outputs": [],
   "source": [
    "to_drop = ['Subject ID', 'GO / SC Num', 'Terry Stop ID', 'Officer ID',\n",
    "           'Initial Call Type', 'Final Call Type', 'Call Type', 'Officer Squad',\n",
    "           'Precinct', 'Sector', 'Beat']"
   ]
  },
  {
   "cell_type": "code",
   "execution_count": 7,
   "metadata": {},
   "outputs": [
    {
     "data": {
      "text/html": [
       "<div>\n",
       "<style scoped>\n",
       "    .dataframe tbody tr th:only-of-type {\n",
       "        vertical-align: middle;\n",
       "    }\n",
       "\n",
       "    .dataframe tbody tr th {\n",
       "        vertical-align: top;\n",
       "    }\n",
       "\n",
       "    .dataframe thead th {\n",
       "        text-align: right;\n",
       "    }\n",
       "</style>\n",
       "<table border=\"1\" class=\"dataframe\">\n",
       "  <thead>\n",
       "    <tr style=\"text-align: right;\">\n",
       "      <th></th>\n",
       "      <th>Subject Age Group</th>\n",
       "      <th>Stop Resolution</th>\n",
       "      <th>Weapon Type</th>\n",
       "      <th>Officer YOB</th>\n",
       "      <th>Officer Gender</th>\n",
       "      <th>Officer Race</th>\n",
       "      <th>Subject Perceived Race</th>\n",
       "      <th>Subject Perceived Gender</th>\n",
       "      <th>Reported Date</th>\n",
       "      <th>Reported Time</th>\n",
       "      <th>Arrest Flag</th>\n",
       "      <th>Frisk Flag</th>\n",
       "    </tr>\n",
       "  </thead>\n",
       "  <tbody>\n",
       "    <tr>\n",
       "      <th>0</th>\n",
       "      <td>-</td>\n",
       "      <td>Arrest</td>\n",
       "      <td>None</td>\n",
       "      <td>1984</td>\n",
       "      <td>M</td>\n",
       "      <td>Black or African American</td>\n",
       "      <td>Asian</td>\n",
       "      <td>Male</td>\n",
       "      <td>2015-10-16T00:00:00</td>\n",
       "      <td>11:32:00</td>\n",
       "      <td>N</td>\n",
       "      <td>N</td>\n",
       "    </tr>\n",
       "    <tr>\n",
       "      <th>1</th>\n",
       "      <td>-</td>\n",
       "      <td>Field Contact</td>\n",
       "      <td>None</td>\n",
       "      <td>1965</td>\n",
       "      <td>M</td>\n",
       "      <td>White</td>\n",
       "      <td>-</td>\n",
       "      <td>-</td>\n",
       "      <td>2015-03-19T00:00:00</td>\n",
       "      <td>07:59:00</td>\n",
       "      <td>N</td>\n",
       "      <td>N</td>\n",
       "    </tr>\n",
       "    <tr>\n",
       "      <th>2</th>\n",
       "      <td>-</td>\n",
       "      <td>Field Contact</td>\n",
       "      <td>None</td>\n",
       "      <td>1961</td>\n",
       "      <td>M</td>\n",
       "      <td>White</td>\n",
       "      <td>White</td>\n",
       "      <td>Male</td>\n",
       "      <td>2015-03-21T00:00:00</td>\n",
       "      <td>19:12:00</td>\n",
       "      <td>N</td>\n",
       "      <td>-</td>\n",
       "    </tr>\n",
       "    <tr>\n",
       "      <th>3</th>\n",
       "      <td>-</td>\n",
       "      <td>Field Contact</td>\n",
       "      <td>None</td>\n",
       "      <td>1963</td>\n",
       "      <td>M</td>\n",
       "      <td>White</td>\n",
       "      <td>-</td>\n",
       "      <td>-</td>\n",
       "      <td>2015-04-01T00:00:00</td>\n",
       "      <td>04:55:00</td>\n",
       "      <td>N</td>\n",
       "      <td>N</td>\n",
       "    </tr>\n",
       "    <tr>\n",
       "      <th>4</th>\n",
       "      <td>-</td>\n",
       "      <td>Field Contact</td>\n",
       "      <td>None</td>\n",
       "      <td>1977</td>\n",
       "      <td>M</td>\n",
       "      <td>White</td>\n",
       "      <td>Black or African American</td>\n",
       "      <td>Male</td>\n",
       "      <td>2015-04-03T00:00:00</td>\n",
       "      <td>00:41:00</td>\n",
       "      <td>N</td>\n",
       "      <td>N</td>\n",
       "    </tr>\n",
       "  </tbody>\n",
       "</table>\n",
       "</div>"
      ],
      "text/plain": [
       "  Subject Age Group Stop Resolution Weapon Type  Officer YOB Officer Gender  \\\n",
       "0                 -          Arrest        None         1984              M   \n",
       "1                 -   Field Contact        None         1965              M   \n",
       "2                 -   Field Contact        None         1961              M   \n",
       "3                 -   Field Contact        None         1963              M   \n",
       "4                 -   Field Contact        None         1977              M   \n",
       "\n",
       "                Officer Race     Subject Perceived Race  \\\n",
       "0  Black or African American                      Asian   \n",
       "1                      White                          -   \n",
       "2                      White                      White   \n",
       "3                      White                          -   \n",
       "4                      White  Black or African American   \n",
       "\n",
       "  Subject Perceived Gender        Reported Date Reported Time Arrest Flag  \\\n",
       "0                     Male  2015-10-16T00:00:00      11:32:00           N   \n",
       "1                        -  2015-03-19T00:00:00      07:59:00           N   \n",
       "2                     Male  2015-03-21T00:00:00      19:12:00           N   \n",
       "3                        -  2015-04-01T00:00:00      04:55:00           N   \n",
       "4                     Male  2015-04-03T00:00:00      00:41:00           N   \n",
       "\n",
       "  Frisk Flag  \n",
       "0          N  \n",
       "1          N  \n",
       "2          -  \n",
       "3          N  \n",
       "4          N  "
      ]
     },
     "execution_count": 7,
     "metadata": {},
     "output_type": "execute_result"
    }
   ],
   "source": [
    "df.drop(to_drop, axis=1, inplace=True)\n",
    "df.head()"
   ]
  },
  {
   "cell_type": "markdown",
   "metadata": {},
   "source": [
    "In the following lines I use the 'Stop Resolution' and 'Arrest Flag' columns to create a binary 'Arrested' column."
   ]
  },
  {
   "cell_type": "code",
   "execution_count": 8,
   "metadata": {},
   "outputs": [],
   "source": [
    "def define_arrested(resolution, flag):\n",
    "    if resolution == 'Arrest' or flag == 'Y':\n",
    "        return 1\n",
    "    else:\n",
    "        return 0"
   ]
  },
  {
   "cell_type": "code",
   "execution_count": 9,
   "metadata": {},
   "outputs": [],
   "source": [
    "df['Arrested'] = df.apply(lambda x: define_arrested(x['Stop Resolution'], x['Arrest Flag']), axis=1)\n",
    "df.drop(['Stop Resolution', 'Arrest Flag'], axis=1, inplace=True)        "
   ]
  },
  {
   "cell_type": "markdown",
   "metadata": {},
   "source": [
    "For 'Frisk Flag and 'Weapon Type' columns, I will assume that missing data signifies no frisk/weapon. "
   ]
  },
  {
   "cell_type": "code",
   "execution_count": 10,
   "metadata": {},
   "outputs": [],
   "source": [
    "df['Frisk Flag'] = df['Frisk Flag'].map(lambda x: 1 if x == 'Y' else 0)"
   ]
  },
  {
   "cell_type": "code",
   "execution_count": 11,
   "metadata": {},
   "outputs": [],
   "source": [
    "df['Weapon Type'] = df['Weapon Type'].map(lambda x: 'None' if x == '-' else x)"
   ]
  },
  {
   "cell_type": "markdown",
   "metadata": {},
   "source": [
    "For date and time, the data will be converted to numerical 'month' and 'hour' columns respecively. "
   ]
  },
  {
   "cell_type": "code",
   "execution_count": 12,
   "metadata": {},
   "outputs": [],
   "source": [
    "df['Reported Month'] = df['Reported Date'].map(lambda x: int(x[5:7]))\n",
    "df.drop('Reported Date', axis=1, inplace=True)"
   ]
  },
  {
   "cell_type": "code",
   "execution_count": 13,
   "metadata": {},
   "outputs": [],
   "source": [
    "df['Reported Hour'] = df['Reported Time'].map(lambda x: int(x[:2]))\n",
    "df.drop('Reported Time', axis = 1, inplace=True)"
   ]
  },
  {
   "cell_type": "markdown",
   "metadata": {},
   "source": [
    "Outliers and generic place-holder answers are dropped."
   ]
  },
  {
   "cell_type": "code",
   "execution_count": 14,
   "metadata": {},
   "outputs": [],
   "source": [
    "df.drop(df[df['Officer YOB']<1940].index, inplace=True)\n",
    "df.drop(df[df['Subject Perceived Gender']=='-'].index, inplace=True)\n",
    "df.drop(df[df['Subject Perceived Race']=='-'].index, inplace=True)\n",
    "df.drop(df[df['Subject Age Group']=='-'].index, inplace=True)"
   ]
  },
  {
   "cell_type": "markdown",
   "metadata": {},
   "source": [
    "To be sure no collinearity problems will arise, the correlation between dependent variables needs to be checked.\n",
    "\n",
    "Alpha = 0.05"
   ]
  },
  {
   "cell_type": "code",
   "execution_count": 15,
   "metadata": {},
   "outputs": [
    {
     "data": {
      "text/html": [
       "<div>\n",
       "<style scoped>\n",
       "    .dataframe tbody tr th:only-of-type {\n",
       "        vertical-align: middle;\n",
       "    }\n",
       "\n",
       "    .dataframe tbody tr th {\n",
       "        vertical-align: top;\n",
       "    }\n",
       "\n",
       "    .dataframe thead th {\n",
       "        text-align: right;\n",
       "    }\n",
       "</style>\n",
       "<table border=\"1\" class=\"dataframe\">\n",
       "  <thead>\n",
       "    <tr style=\"text-align: right;\">\n",
       "      <th></th>\n",
       "      <th>Officer YOB</th>\n",
       "      <th>Frisk Flag</th>\n",
       "      <th>Reported Month</th>\n",
       "      <th>Reported Hour</th>\n",
       "    </tr>\n",
       "  </thead>\n",
       "  <tbody>\n",
       "    <tr>\n",
       "      <th>Officer YOB</th>\n",
       "      <td>1.000000</td>\n",
       "      <td>0.027183</td>\n",
       "      <td>-0.019369</td>\n",
       "      <td>-0.045488</td>\n",
       "    </tr>\n",
       "    <tr>\n",
       "      <th>Frisk Flag</th>\n",
       "      <td>0.027183</td>\n",
       "      <td>1.000000</td>\n",
       "      <td>0.008921</td>\n",
       "      <td>0.018031</td>\n",
       "    </tr>\n",
       "    <tr>\n",
       "      <th>Reported Month</th>\n",
       "      <td>-0.019369</td>\n",
       "      <td>0.008921</td>\n",
       "      <td>1.000000</td>\n",
       "      <td>-0.000423</td>\n",
       "    </tr>\n",
       "    <tr>\n",
       "      <th>Reported Hour</th>\n",
       "      <td>-0.045488</td>\n",
       "      <td>0.018031</td>\n",
       "      <td>-0.000423</td>\n",
       "      <td>1.000000</td>\n",
       "    </tr>\n",
       "  </tbody>\n",
       "</table>\n",
       "</div>"
      ],
      "text/plain": [
       "                Officer YOB  Frisk Flag  Reported Month  Reported Hour\n",
       "Officer YOB        1.000000    0.027183       -0.019369      -0.045488\n",
       "Frisk Flag         0.027183    1.000000        0.008921       0.018031\n",
       "Reported Month    -0.019369    0.008921        1.000000      -0.000423\n",
       "Reported Hour     -0.045488    0.018031       -0.000423       1.000000"
      ]
     },
     "execution_count": 15,
     "metadata": {},
     "output_type": "execute_result"
    }
   ],
   "source": [
    "df.drop('Arrested', axis=1).corr()"
   ]
  },
  {
   "cell_type": "markdown",
   "metadata": {},
   "source": [
    "Lastly, data is separated into training and testing sets and the categorical variables will be one hot encoded."
   ]
  },
  {
   "cell_type": "code",
   "execution_count": 16,
   "metadata": {},
   "outputs": [],
   "source": [
    "from sklearn.model_selection import train_test_split\n",
    "\n",
    "y = df.Arrested\n",
    "X = df.drop('Arrested', axis=1)\n",
    "X = pd.get_dummies(X, drop_first=True)"
   ]
  },
  {
   "cell_type": "code",
   "execution_count": 17,
   "metadata": {},
   "outputs": [],
   "source": [
    "X_train, X_test, y_train, y_test = train_test_split(X, y, random_state=40)"
   ]
  },
  {
   "cell_type": "markdown",
   "metadata": {},
   "source": [
    "# Baseline Models"
   ]
  },
  {
   "cell_type": "markdown",
   "metadata": {},
   "source": [
    "Models that will be auditioned are K Nearest Neighbors, decision trees, random forest, and XGBoost"
   ]
  },
  {
   "cell_type": "code",
   "execution_count": 18,
   "metadata": {},
   "outputs": [],
   "source": [
    "from sklearn.preprocessing import StandardScaler\n",
    "from sklearn.neighbors import KNeighborsClassifier\n",
    "from sklearn.tree import DecisionTreeClassifier\n",
    "from sklearn.ensemble import RandomForestClassifier\n",
    "from xgboost import XGBClassifier\n",
    "from sklearn.metrics import accuracy_score"
   ]
  },
  {
   "cell_type": "markdown",
   "metadata": {},
   "source": [
    "### K Nearest Neighbor"
   ]
  },
  {
   "cell_type": "code",
   "execution_count": 19,
   "metadata": {},
   "outputs": [],
   "source": [
    "scaler = StandardScaler()\n",
    "\n",
    "# Transform the training and test sets\n",
    "scaled_X_train = scaler.fit_transform(X_train)\n",
    "scaled_X_test = scaler.transform(X_test)"
   ]
  },
  {
   "cell_type": "code",
   "execution_count": 20,
   "metadata": {},
   "outputs": [
    {
     "name": "stdout",
     "output_type": "stream",
     "text": [
      "accuracy score:  0.7068949560388709\n"
     ]
    }
   ],
   "source": [
    "knn = KNeighborsClassifier()\n",
    "knn.fit(scaled_X_train, y_train)\n",
    "y_train_pred = knn.predict(scaled_X_train)\n",
    "y_test_pred = knn.predict(scaled_X_test)\n",
    "print('accuracy score: ', accuracy_score(y_test, y_test_pred))"
   ]
  },
  {
   "cell_type": "markdown",
   "metadata": {},
   "source": [
    "### Decision Tree"
   ]
  },
  {
   "cell_type": "code",
   "execution_count": 21,
   "metadata": {},
   "outputs": [
    {
     "name": "stdout",
     "output_type": "stream",
     "text": [
      "accuracy score:  0.7434521055067098\n"
     ]
    }
   ],
   "source": [
    "dsc = DecisionTreeClassifier(max_depth=3)\n",
    "dsc.fit(X_train, y_train)\n",
    "y_pred = dsc.predict(X_test)\n",
    "print('accuracy score: ', accuracy_score(y_test, y_pred))"
   ]
  },
  {
   "cell_type": "markdown",
   "metadata": {},
   "source": [
    "### Random Forest"
   ]
  },
  {
   "cell_type": "code",
   "execution_count": 22,
   "metadata": {},
   "outputs": [
    {
     "name": "stdout",
     "output_type": "stream",
     "text": [
      "accuracy score:  0.7445627024525683\n"
     ]
    }
   ],
   "source": [
    "rfc = RandomForestClassifier(max_depth=3)\n",
    "rfc.fit(X_train, y_train)\n",
    "y_pred = rfc.predict(X_test)\n",
    "print('accuracy score: ', accuracy_score(y_test, y_pred))"
   ]
  },
  {
   "cell_type": "markdown",
   "metadata": {},
   "source": [
    "### XGBoost"
   ]
  },
  {
   "cell_type": "code",
   "execution_count": 23,
   "metadata": {},
   "outputs": [
    {
     "name": "stdout",
     "output_type": "stream",
     "text": [
      "accuracy score:  0.7409532623785284\n"
     ]
    }
   ],
   "source": [
    "xgb = XGBClassifier()\n",
    "xgb.fit(X_train, y_train)\n",
    "y_pred = xgb.predict(X_test)\n",
    "print('accuracy score: ', accuracy_score(y_test, y_pred))"
   ]
  },
  {
   "cell_type": "markdown",
   "metadata": {},
   "source": [
    "Because our decision tree and random forest performed best, they will be focused on moving forward."
   ]
  },
  {
   "cell_type": "markdown",
   "metadata": {},
   "source": [
    "# Model Tuning/Reitteration"
   ]
  },
  {
   "cell_type": "markdown",
   "metadata": {},
   "source": [
    "GridSearchCV will be used to tune the hyperparameters of the algorithms to maximize their performance."
   ]
  },
  {
   "cell_type": "markdown",
   "metadata": {},
   "source": [
    "### Decision Tree"
   ]
  },
  {
   "cell_type": "code",
   "execution_count": 24,
   "metadata": {},
   "outputs": [],
   "source": [
    "from sklearn.model_selection import GridSearchCV"
   ]
  },
  {
   "cell_type": "code",
   "execution_count": 25,
   "metadata": {},
   "outputs": [
    {
     "data": {
      "text/plain": [
       "{'criterion': 'gini',\n",
       " 'max_depth': 3,\n",
       " 'min_samples_leaf': 1,\n",
       " 'min_samples_split': 2}"
      ]
     },
     "execution_count": 25,
     "metadata": {},
     "output_type": "execute_result"
    }
   ],
   "source": [
    "dtc = DecisionTreeClassifier()\n",
    "\n",
    "dt_param_grid = {\n",
    "    'criterion': ['gini', 'entropy'],\n",
    "    'max_depth': [None, 2, 3, 4, 5, 6],\n",
    "    'min_samples_split': [2, 5, 10],\n",
    "    'min_samples_leaf': [1, 2, 3, 4, 5, 6]\n",
    "}\n",
    "\n",
    "gs_tree = GridSearchCV(dtc, dt_param_grid, cv=3)\n",
    "gs_tree.fit(X_train, y_train)\n",
    "gs_tree.best_params_"
   ]
  },
  {
   "cell_type": "code",
   "execution_count": 26,
   "metadata": {},
   "outputs": [
    {
     "data": {
      "text/plain": [
       "0.7434521055067098"
      ]
     },
     "execution_count": 26,
     "metadata": {},
     "output_type": "execute_result"
    }
   ],
   "source": [
    "gs_tree.score(X_test, y_test)"
   ]
  },
  {
   "cell_type": "code",
   "execution_count": 27,
   "metadata": {},
   "outputs": [
    {
     "data": {
      "text/plain": [
       "{'criterion': 'entropy',\n",
       " 'max_depth': None,\n",
       " 'min_samples_leaf': 3,\n",
       " 'min_samples_split': 5,\n",
       " 'n_estimators': 100}"
      ]
     },
     "execution_count": 27,
     "metadata": {},
     "output_type": "execute_result"
    }
   ],
   "source": [
    "rfc = RandomForestClassifier()\n",
    "\n",
    "rf_param_grid = {\n",
    "    'n_estimators': [10, 30, 100],\n",
    "    'criterion': ['gini', 'entropy'],\n",
    "    'max_depth': [None, 2, 4, 6, 10],\n",
    "    'min_samples_split': [5, 10],\n",
    "    'min_samples_leaf': [3, 6]\n",
    "}\n",
    "\n",
    "gs_forest = GridSearchCV(rfc, rf_param_grid, cv=3)\n",
    "gs_forest.fit(X_train, y_train)\n",
    "gs_forest.best_params_"
   ]
  },
  {
   "cell_type": "code",
   "execution_count": 28,
   "metadata": {},
   "outputs": [
    {
     "data": {
      "text/plain": [
       "0.7434521055067098"
      ]
     },
     "execution_count": 28,
     "metadata": {},
     "output_type": "execute_result"
    }
   ],
   "source": [
    "gs_forest.score(X_test, y_test)"
   ]
  },
  {
   "cell_type": "markdown",
   "metadata": {},
   "source": [
    "Accuracy is slightly improved after optimization, but only by a negligible amount. Models must be further evaluated to find the model with the best performance."
   ]
  },
  {
   "cell_type": "markdown",
   "metadata": {},
   "source": [
    "# Model Evaluation"
   ]
  },
  {
   "cell_type": "markdown",
   "metadata": {},
   "source": [
    "The two contesting models will be further evaluated to narrow down to the best performing model for deployment."
   ]
  },
  {
   "cell_type": "code",
   "execution_count": 29,
   "metadata": {},
   "outputs": [],
   "source": [
    "from sklearn.metrics import plot_confusion_matrix, recall_score, precision_score, f1_score\n",
    "\n",
    "def metric_scores(actual, predicted):\n",
    "    print('Accuracy Score: ', accuracy_score(actual, predicted))\n",
    "    print('Recall Score: ', recall_score(actual, predicted))\n",
    "    print('Precision Score: ', precision_score(actual, predicted))\n",
    "    print('F1 Score: ', f1_score(actual, predicted))"
   ]
  },
  {
   "cell_type": "markdown",
   "metadata": {},
   "source": [
    "### Decision Tree"
   ]
  },
  {
   "cell_type": "code",
   "execution_count": 30,
   "metadata": {},
   "outputs": [],
   "source": [
    "dtree = DecisionTreeClassifier(criterion='gini', max_depth=3, min_samples_leaf=1, min_samples_split=2)\n",
    "dtree.fit(X_train, y_train)\n",
    "tree_pred = dtree.predict(X_test)"
   ]
  },
  {
   "cell_type": "code",
   "execution_count": 31,
   "metadata": {},
   "outputs": [
    {
     "name": "stdout",
     "output_type": "stream",
     "text": [
      "Accuracy Score:  0.7434521055067098\n",
      "Recall Score:  0.042391304347826085\n",
      "Precision Score:  0.47560975609756095\n",
      "F1 Score:  0.0778443113772455\n"
     ]
    }
   ],
   "source": [
    "metric_scores(y_test, tree_pred)"
   ]
  },
  {
   "cell_type": "code",
   "execution_count": 32,
   "metadata": {},
   "outputs": [
    {
     "data": {
      "text/plain": [
       "<sklearn.metrics._plot.confusion_matrix.ConfusionMatrixDisplay at 0x7ffa0046e040>"
      ]
     },
     "execution_count": 32,
     "metadata": {},
     "output_type": "execute_result"
    },
    {
     "data": {
      "image/png": "[encoded data removed]",
      "text/plain": [
       "<Figure size 432x288 with 2 Axes>"
      ]
     },
     "metadata": {
      "needs_background": "light"
     },
     "output_type": "display_data"
    }
   ],
   "source": [
    "plot_confusion_matrix(dtree, X_test, y_test, cmap=plt.cm.Blues)"
   ]
  },
  {
   "cell_type": "code",
   "execution_count": 33,
   "metadata": {},
   "outputs": [
    {
     "data": {
      "image/png": "[encoded data removed]",
      "text/plain": [
       "<Figure size 1750x1050 with 1 Axes>"
      ]
     },
     "metadata": {
      "needs_background": "light"
     },
     "output_type": "display_data"
    }
   ],
   "source": [
    "from sklearn import tree\n",
    "fig, axes = plt.subplots(nrows = 1,ncols = 1, figsize = (5,3), dpi=350)\n",
    "tree.plot_tree(dtree,\n",
    "               feature_names = X_train.columns, \n",
    "               class_names=np.unique(y_train).astype('str'),\n",
    "               filled = True)\n",
    "plt.show()"
   ]
  },
  {
   "cell_type": "markdown",
   "metadata": {},
   "source": [
    "The tree is not overfitted, but does have a large amount of false negative predictions."
   ]
  },
  {
   "cell_type": "markdown",
   "metadata": {},
   "source": [
    "### Random Forest"
   ]
  },
  {
   "cell_type": "code",
   "execution_count": 34,
   "metadata": {},
   "outputs": [],
   "source": [
    "rforest = RandomForestClassifier(criterion='gini', max_depth=None, min_samples_leaf=6,\n",
    "                                 min_samples_split=10, n_estimators=100)\n",
    "rforest.fit(X_train, y_train)\n",
    "forest_pred = rforest.predict(X_test)"
   ]
  },
  {
   "cell_type": "code",
   "execution_count": 35,
   "metadata": {},
   "outputs": [
    {
     "name": "stdout",
     "output_type": "stream",
     "text": [
      "Accuracy Score:  0.7431744562702453\n",
      "Recall Score:  0.020289855072463767\n",
      "Precision Score:  0.4409448818897638\n",
      "F1 Score:  0.038794596466920676\n"
     ]
    }
   ],
   "source": [
    "metric_scores(y_test, forest_pred)"
   ]
  },
  {
   "cell_type": "code",
   "execution_count": 36,
   "metadata": {},
   "outputs": [
    {
     "data": {
      "text/plain": [
       "<sklearn.metrics._plot.confusion_matrix.ConfusionMatrixDisplay at 0x7ffa2a80f2e0>"
      ]
     },
     "execution_count": 36,
     "metadata": {},
     "output_type": "execute_result"
    },
    {
     "data": {
      "image/png": "[encoded data removed]",
      "text/plain": [
       "<Figure size 432x288 with 2 Axes>"
      ]
     },
     "metadata": {
      "needs_background": "light"
     },
     "output_type": "display_data"
    }
   ],
   "source": [
    "plot_confusion_matrix(rforest, X_test, y_test, cmap=plt.cm.Blues)"
   ]
  },
  {
   "cell_type": "markdown",
   "metadata": {},
   "source": [
    "The random forest model performed similarly to the decision tree. To save processing time and power, the final model is the decision tree."
   ]
  },
  {
   "cell_type": "markdown",
   "metadata": {},
   "source": [
    "# Feature Importance"
   ]
  },
  {
   "cell_type": "code",
   "execution_count": 37,
   "metadata": {},
   "outputs": [
    {
     "data": {
      "text/plain": [
       "Text(0, 0.5, 'Feature')"
      ]
     },
     "execution_count": 37,
     "metadata": {},
     "output_type": "execute_result"
    },
    {
     "data": {
      "image/png": "[encoded data removed]",
      "text/plain": [
       "<Figure size 576x720 with 1 Axes>"
      ]
     },
     "metadata": {
      "needs_background": "light"
     },
     "output_type": "display_data"
    }
   ],
   "source": [
    "plt.figure(figsize=(8,10))\n",
    "plt.barh(range(len(X_train.columns)), dtree.feature_importances_, align='center') \n",
    "plt.yticks(np.arange(len(X_train.columns)), X_train.columns.values) \n",
    "plt.xlabel('Feature importance')\n",
    "plt.ylabel('Feature')"
   ]
  },
  {
   "cell_type": "markdown",
   "metadata": {},
   "source": [
    "# Conclusions"
   ]
  },
  {
   "cell_type": "markdown",
   "metadata": {},
   "source": [
    "The most important feature to a random stop influencing if a subject is arrested is whether or not the subject was frisked. Following that is the age of the officer and whether or not the subject had any weapons. the type of weapon did not matter. "
   ]
  },
  {
   "cell_type": "markdown",
   "metadata": {},
   "source": [
    "The decision tree classifier trained with this data had an accuracy rating of about 75%"
   ]
  },
  {
   "cell_type": "markdown",
   "metadata": {},
   "source": [
    "# Future Work"
   ]
  },
  {
   "cell_type": "markdown",
   "metadata": {},
   "source": [
    "In the future it would be beneficial to explore ways to decrease the rate of false positives in our model.\n",
    "\n",
    "Also, incorporating data from a wider geographic area could make for a more comprehensive model."
   ]
  }
 ],
 "metadata": {
  "kernelspec": {
   "display_name": "learn-env",
   "language": "python",
   "name": "learn-env"
  },
  "language_info": {
   "codemirror_mode": {
    "name": "ipython",
    "version": 3
   },
   "file_extension": ".py",
   "mimetype": "text/x-python",
   "name": "python",
   "nbconvert_exporter": "python",
   "pygments_lexer": "ipython3",
   "version": "3.8.5"
  }
 },
 "nbformat": 4,
 "nbformat_minor": 4
}
